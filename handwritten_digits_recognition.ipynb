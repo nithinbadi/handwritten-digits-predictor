{
  "nbformat": 4,
  "nbformat_minor": 0,
  "metadata": {
    "colab": {
      "provenance": [],
      "gpuType": "T4",
      "authorship_tag": "ABX9TyNnXwNe6dnlMYT5hz6ywuIW",
      "include_colab_link": true
    },
    "kernelspec": {
      "name": "python3",
      "display_name": "Python 3"
    },
    "language_info": {
      "name": "python"
    },
    "accelerator": "GPU"
  },
  "cells": [
    {
      "cell_type": "markdown",
      "metadata": {
        "id": "view-in-github",
        "colab_type": "text"
      },
      "source": [
        "<a href=\"https://colab.research.google.com/github/nithinbadi/handwritten-digits-predictor/blob/main/handwritten_digits_recognition.ipynb\" target=\"_parent\"><img src=\"https://colab.research.google.com/assets/colab-badge.svg\" alt=\"Open In Colab\"/></a>"
      ]
    },
    {
      "cell_type": "code",
      "execution_count": 1,
      "metadata": {
        "id": "00_RzxbOBWEX"
      },
      "outputs": [],
      "source": [
        "from torchvision import datasets\n",
        "from torchvision.transforms import ToTensor"
      ]
    },
    {
      "cell_type": "code",
      "source": [
        "train_data=datasets.MNIST(\n",
        "    root='data',\n",
        "    train=True,\n",
        "    transform=ToTensor(),\n",
        "    download=True\n",
        ")\n",
        "\n",
        "test_data=datasets.MNIST(\n",
        "    root='data',\n",
        "    train=False,\n",
        "    transform=ToTensor(),\n",
        "    download=True\n",
        ")"
      ],
      "metadata": {
        "colab": {
          "base_uri": "https://localhost:8080/"
        },
        "id": "EMieT-lSBuwT",
        "outputId": "6c95e62b-188a-4bc9-c57a-20b404963ace"
      },
      "execution_count": 2,
      "outputs": [
        {
          "output_type": "stream",
          "name": "stdout",
          "text": [
            "Downloading http://yann.lecun.com/exdb/mnist/train-images-idx3-ubyte.gz\n",
            "Downloading http://yann.lecun.com/exdb/mnist/train-images-idx3-ubyte.gz to data/MNIST/raw/train-images-idx3-ubyte.gz\n"
          ]
        },
        {
          "output_type": "stream",
          "name": "stderr",
          "text": [
            "100%|██████████| 9912422/9912422 [00:00<00:00, 118878433.67it/s]\n"
          ]
        },
        {
          "output_type": "stream",
          "name": "stdout",
          "text": [
            "Extracting data/MNIST/raw/train-images-idx3-ubyte.gz to data/MNIST/raw\n",
            "\n",
            "Downloading http://yann.lecun.com/exdb/mnist/train-labels-idx1-ubyte.gz\n",
            "Downloading http://yann.lecun.com/exdb/mnist/train-labels-idx1-ubyte.gz to data/MNIST/raw/train-labels-idx1-ubyte.gz\n"
          ]
        },
        {
          "output_type": "stream",
          "name": "stderr",
          "text": [
            "100%|██████████| 28881/28881 [00:00<00:00, 31480169.91it/s]\n"
          ]
        },
        {
          "output_type": "stream",
          "name": "stdout",
          "text": [
            "Extracting data/MNIST/raw/train-labels-idx1-ubyte.gz to data/MNIST/raw\n",
            "\n",
            "Downloading http://yann.lecun.com/exdb/mnist/t10k-images-idx3-ubyte.gz\n",
            "Downloading http://yann.lecun.com/exdb/mnist/t10k-images-idx3-ubyte.gz to data/MNIST/raw/t10k-images-idx3-ubyte.gz\n"
          ]
        },
        {
          "output_type": "stream",
          "name": "stderr",
          "text": [
            "100%|██████████| 1648877/1648877 [00:00<00:00, 35044142.31it/s]\n"
          ]
        },
        {
          "output_type": "stream",
          "name": "stdout",
          "text": [
            "Extracting data/MNIST/raw/t10k-images-idx3-ubyte.gz to data/MNIST/raw\n",
            "\n",
            "Downloading http://yann.lecun.com/exdb/mnist/t10k-labels-idx1-ubyte.gz\n",
            "Downloading http://yann.lecun.com/exdb/mnist/t10k-labels-idx1-ubyte.gz to data/MNIST/raw/t10k-labels-idx1-ubyte.gz\n"
          ]
        },
        {
          "output_type": "stream",
          "name": "stderr",
          "text": [
            "100%|██████████| 4542/4542 [00:00<00:00, 7124356.31it/s]\n"
          ]
        },
        {
          "output_type": "stream",
          "name": "stdout",
          "text": [
            "Extracting data/MNIST/raw/t10k-labels-idx1-ubyte.gz to data/MNIST/raw\n",
            "\n"
          ]
        }
      ]
    },
    {
      "cell_type": "code",
      "source": [
        "train_data"
      ],
      "metadata": {
        "colab": {
          "base_uri": "https://localhost:8080/"
        },
        "id": "NemksaP7CCmr",
        "outputId": "e68b21bb-4351-49cb-83af-b6f33ffc10fd"
      },
      "execution_count": 3,
      "outputs": [
        {
          "output_type": "execute_result",
          "data": {
            "text/plain": [
              "Dataset MNIST\n",
              "    Number of datapoints: 60000\n",
              "    Root location: data\n",
              "    Split: Train\n",
              "    StandardTransform\n",
              "Transform: ToTensor()"
            ]
          },
          "metadata": {},
          "execution_count": 3
        }
      ]
    },
    {
      "cell_type": "code",
      "source": [
        "test_data"
      ],
      "metadata": {
        "colab": {
          "base_uri": "https://localhost:8080/"
        },
        "id": "7tE2lIebCGWN",
        "outputId": "20c19a54-128e-42d9-c366-0f8fb55a462a"
      },
      "execution_count": 4,
      "outputs": [
        {
          "output_type": "execute_result",
          "data": {
            "text/plain": [
              "Dataset MNIST\n",
              "    Number of datapoints: 10000\n",
              "    Root location: data\n",
              "    Split: Test\n",
              "    StandardTransform\n",
              "Transform: ToTensor()"
            ]
          },
          "metadata": {},
          "execution_count": 4
        }
      ]
    },
    {
      "cell_type": "code",
      "source": [
        "train_data.data.shape"
      ],
      "metadata": {
        "colab": {
          "base_uri": "https://localhost:8080/"
        },
        "id": "PkwcqsPECIOg",
        "outputId": "b55fe7e7-2147-46a1-ce05-4710db511db2"
      },
      "execution_count": 5,
      "outputs": [
        {
          "output_type": "execute_result",
          "data": {
            "text/plain": [
              "torch.Size([60000, 28, 28])"
            ]
          },
          "metadata": {},
          "execution_count": 5
        }
      ]
    },
    {
      "cell_type": "code",
      "source": [
        "test_data.data.shape"
      ],
      "metadata": {
        "colab": {
          "base_uri": "https://localhost:8080/"
        },
        "id": "pfsif3MnCLs8",
        "outputId": "0cb378e4-6647-4540-a949-edb26d09a337"
      },
      "execution_count": 6,
      "outputs": [
        {
          "output_type": "execute_result",
          "data": {
            "text/plain": [
              "torch.Size([10000, 28, 28])"
            ]
          },
          "metadata": {},
          "execution_count": 6
        }
      ]
    },
    {
      "cell_type": "code",
      "source": [
        "train_data.targets.shape"
      ],
      "metadata": {
        "colab": {
          "base_uri": "https://localhost:8080/"
        },
        "id": "wuwSA0emCUTE",
        "outputId": "1bd34d88-9f9b-40d5-c04e-379950dc444a"
      },
      "execution_count": 7,
      "outputs": [
        {
          "output_type": "execute_result",
          "data": {
            "text/plain": [
              "torch.Size([60000])"
            ]
          },
          "metadata": {},
          "execution_count": 7
        }
      ]
    },
    {
      "cell_type": "code",
      "source": [
        "from torch.utils.data import DataLoader\n",
        "\n",
        "loaders = {\n",
        "    'train':DataLoader(train_data,\n",
        "                       batch_size=100,\n",
        "                       shuffle=True,\n",
        "                       num_workers=1),\n",
        "\n",
        "    'test':DataLoader(test_data,\n",
        "                       batch_size=100,\n",
        "                       shuffle=True,\n",
        "                       num_workers=1)\n",
        "}"
      ],
      "metadata": {
        "id": "sicesV9_CYso"
      },
      "execution_count": 8,
      "outputs": []
    },
    {
      "cell_type": "code",
      "source": [
        "loaders"
      ],
      "metadata": {
        "colab": {
          "base_uri": "https://localhost:8080/"
        },
        "id": "P4ybHfeBC45V",
        "outputId": "99a408e9-1c44-48e9-9df7-d40f1d2c691e"
      },
      "execution_count": 9,
      "outputs": [
        {
          "output_type": "execute_result",
          "data": {
            "text/plain": [
              "{'train': <torch.utils.data.dataloader.DataLoader at 0x7bb7a705faf0>,\n",
              " 'test': <torch.utils.data.dataloader.DataLoader at 0x7bb7a705fac0>}"
            ]
          },
          "metadata": {},
          "execution_count": 9
        }
      ]
    },
    {
      "cell_type": "code",
      "source": [
        "import torch.nn as nn\n",
        "import torch.nn.functional as F\n",
        "import torch.optim as optim\n",
        "\n",
        "\n",
        "class CNN(nn.Module):\n",
        "  def __init__(self):\n",
        "    super(CNN,self).__init__()\n",
        "    self.conv1 = nn.Conv2d(1,10,kernel_size=5)\n",
        "    self.conv2 = nn.Conv2d(10,20,kernel_size=5)\n",
        "    self.conv2_drop = nn.Dropout2d()\n",
        "    self.fc1 = nn.Linear(320, 50)\n",
        "    self.fc2 = nn.Linear(50,10)\n",
        "\n",
        "  def forward(self, x):\n",
        "    x = F.relu(F.max_pool2d(self.conv1(x),2))\n",
        "    x = F.relu(F.max_pool2d(self.conv2_drop(self.conv2(x)),2))\n",
        "    x = x.view(-1,320) # flatten the layer 20*4*4\n",
        "    x = F.relu(self.fc1(x))\n",
        "    x = F.dropout(x, training=self.training)\n",
        "    x = self.fc2(x)\n",
        "\n",
        "    return F.softmax(x) # returns probability of all the ten digits\n"
      ],
      "metadata": {
        "id": "gsHNcMmTDHs4"
      },
      "execution_count": 10,
      "outputs": []
    },
    {
      "cell_type": "code",
      "source": [
        "import torch\n",
        "\n",
        "device = 'cuda' if torch.cuda.is_available() else 'cpu'\n",
        "\n",
        "model = CNN().to(device)\n",
        "\n",
        "optimizer = optim.Adam(model.parameters(), lr=0.01)\n",
        "\n",
        "loss_fn = nn.CrossEntropyLoss()\n",
        "\n",
        "def train(epoch):\n",
        "  model.train()\n",
        "\n",
        "  for batch_idx, (data, target) in enumerate(loaders['train']):\n",
        "    data,target = data.to(device), target.to(device)\n",
        "\n",
        "    optimizer.zero_grad()\n",
        "    output = model(data)\n",
        "    loss = loss_fn(output,target)\n",
        "\n",
        "\n",
        "    loss.backward()\n",
        "    optimizer.step()\n",
        "\n",
        "    if batch_idx % 20 == 0:\n",
        "      print(f\"Train Epoch: {epoch} [{batch_idx *len(data)}/{len(loaders['train'].dataset)}({100* batch_idx/len(loaders['train']):.0f}%)\\t{loss.item():.6f}]\")\n",
        "\n",
        "\n",
        "def test():\n",
        "  model.eval()\n",
        "  test_loss = 0\n",
        "  correct = 0\n",
        "\n",
        "  with torch.inference_mode():\n",
        "    for data,target in loaders['test']:\n",
        "      data,target = data.to(device),target.to(device)\n",
        "\n",
        "      output = model(data)\n",
        "      test_loss += loss_fn(output,target).item()\n",
        "      pred = output.argmax(dim=1, keepdim=True)\n",
        "      correct +=pred.eq(target.view_as(pred)).sum().item()\n",
        "  test_loss /= len(loaders['test'].dataset)\n",
        "  print(f\"\\nTest set: Average loss: {test_loss:.4f}, Accuracy {correct}/{len(loaders['test'].dataset)} ({100. * correct/len(loaders['test'].dataset):.0f})%\\n\")"
      ],
      "metadata": {
        "id": "GCQN39q5FEe9"
      },
      "execution_count": 11,
      "outputs": []
    },
    {
      "cell_type": "code",
      "source": [
        "for epoch in range(1,11):\n",
        "  train(epoch)\n",
        "  test()"
      ],
      "metadata": {
        "colab": {
          "base_uri": "https://localhost:8080/"
        },
        "id": "qsJQk3hsI3Ox",
        "outputId": "d77a371c-674f-4e40-c0e6-d19db01e12fd"
      },
      "execution_count": 12,
      "outputs": [
        {
          "output_type": "stream",
          "name": "stderr",
          "text": [
            "<ipython-input-10-aafda727790c>:23: UserWarning: Implicit dimension choice for softmax has been deprecated. Change the call to include dim=X as an argument.\n",
            "  return F.softmax(x) # returns probability of all the ten digits\n"
          ]
        },
        {
          "output_type": "stream",
          "name": "stdout",
          "text": [
            "Train Epoch: 1 [0/60000(0%)\t2.301264]\n",
            "Train Epoch: 1 [2000/60000(3%)\t2.030618]\n",
            "Train Epoch: 1 [4000/60000(7%)\t1.849026]\n",
            "Train Epoch: 1 [6000/60000(10%)\t1.816722]\n",
            "Train Epoch: 1 [8000/60000(13%)\t1.826456]\n",
            "Train Epoch: 1 [10000/60000(17%)\t1.888940]\n",
            "Train Epoch: 1 [12000/60000(20%)\t1.700040]\n",
            "Train Epoch: 1 [14000/60000(23%)\t1.722483]\n",
            "Train Epoch: 1 [16000/60000(27%)\t1.731111]\n",
            "Train Epoch: 1 [18000/60000(30%)\t1.711269]\n",
            "Train Epoch: 1 [20000/60000(33%)\t1.700227]\n",
            "Train Epoch: 1 [22000/60000(37%)\t1.731895]\n",
            "Train Epoch: 1 [24000/60000(40%)\t1.633548]\n",
            "Train Epoch: 1 [26000/60000(43%)\t1.750110]\n",
            "Train Epoch: 1 [28000/60000(47%)\t1.708674]\n",
            "Train Epoch: 1 [30000/60000(50%)\t1.625909]\n",
            "Train Epoch: 1 [32000/60000(53%)\t1.640482]\n",
            "Train Epoch: 1 [34000/60000(57%)\t1.657193]\n",
            "Train Epoch: 1 [36000/60000(60%)\t1.652029]\n",
            "Train Epoch: 1 [38000/60000(63%)\t1.609177]\n",
            "Train Epoch: 1 [40000/60000(67%)\t1.651486]\n",
            "Train Epoch: 1 [42000/60000(70%)\t1.623956]\n",
            "Train Epoch: 1 [44000/60000(73%)\t1.681368]\n",
            "Train Epoch: 1 [46000/60000(77%)\t1.656714]\n",
            "Train Epoch: 1 [48000/60000(80%)\t1.674220]\n",
            "Train Epoch: 1 [50000/60000(83%)\t1.676314]\n",
            "Train Epoch: 1 [52000/60000(87%)\t1.622813]\n",
            "Train Epoch: 1 [54000/60000(90%)\t1.674600]\n",
            "Train Epoch: 1 [56000/60000(93%)\t1.651504]\n",
            "Train Epoch: 1 [58000/60000(97%)\t1.705046]\n",
            "\n",
            "Test set: Average loss: 0.0152, Accuracy 9377/10000 (94)%\n",
            "\n",
            "Train Epoch: 2 [0/60000(0%)\t1.591809]\n",
            "Train Epoch: 2 [2000/60000(3%)\t1.630204]\n",
            "Train Epoch: 2 [4000/60000(7%)\t1.645617]\n",
            "Train Epoch: 2 [6000/60000(10%)\t1.554371]\n",
            "Train Epoch: 2 [8000/60000(13%)\t1.661409]\n",
            "Train Epoch: 2 [10000/60000(17%)\t1.613567]\n",
            "Train Epoch: 2 [12000/60000(20%)\t1.642414]\n",
            "Train Epoch: 2 [14000/60000(23%)\t1.659980]\n",
            "Train Epoch: 2 [16000/60000(27%)\t1.684859]\n",
            "Train Epoch: 2 [18000/60000(30%)\t1.583318]\n",
            "Train Epoch: 2 [20000/60000(33%)\t1.658304]\n",
            "Train Epoch: 2 [22000/60000(37%)\t1.623255]\n",
            "Train Epoch: 2 [24000/60000(40%)\t1.668931]\n",
            "Train Epoch: 2 [26000/60000(43%)\t1.623540]\n",
            "Train Epoch: 2 [28000/60000(47%)\t1.659348]\n",
            "Train Epoch: 2 [30000/60000(50%)\t1.620740]\n",
            "Train Epoch: 2 [32000/60000(53%)\t1.666757]\n",
            "Train Epoch: 2 [34000/60000(57%)\t1.600340]\n",
            "Train Epoch: 2 [36000/60000(60%)\t1.594476]\n",
            "Train Epoch: 2 [38000/60000(63%)\t1.625940]\n",
            "Train Epoch: 2 [40000/60000(67%)\t1.666416]\n",
            "Train Epoch: 2 [42000/60000(70%)\t1.611230]\n",
            "Train Epoch: 2 [44000/60000(73%)\t1.641647]\n",
            "Train Epoch: 2 [46000/60000(77%)\t1.585635]\n",
            "Train Epoch: 2 [48000/60000(80%)\t1.571139]\n",
            "Train Epoch: 2 [50000/60000(83%)\t1.671777]\n",
            "Train Epoch: 2 [52000/60000(87%)\t1.700165]\n",
            "Train Epoch: 2 [54000/60000(90%)\t1.657770]\n",
            "Train Epoch: 2 [56000/60000(93%)\t1.728711]\n",
            "Train Epoch: 2 [58000/60000(97%)\t1.738901]\n",
            "\n",
            "Test set: Average loss: 0.0153, Accuracy 9278/10000 (93)%\n",
            "\n",
            "Train Epoch: 3 [0/60000(0%)\t1.661355]\n",
            "Train Epoch: 3 [2000/60000(3%)\t1.651129]\n",
            "Train Epoch: 3 [4000/60000(7%)\t1.700931]\n",
            "Train Epoch: 3 [6000/60000(10%)\t1.682167]\n",
            "Train Epoch: 3 [8000/60000(13%)\t1.720994]\n",
            "Train Epoch: 3 [10000/60000(17%)\t1.790792]\n",
            "Train Epoch: 3 [12000/60000(20%)\t1.661216]\n",
            "Train Epoch: 3 [14000/60000(23%)\t1.704980]\n",
            "Train Epoch: 3 [16000/60000(27%)\t1.706454]\n",
            "Train Epoch: 3 [18000/60000(30%)\t1.801028]\n",
            "Train Epoch: 3 [20000/60000(33%)\t1.661290]\n",
            "Train Epoch: 3 [22000/60000(37%)\t1.661211]\n",
            "Train Epoch: 3 [24000/60000(40%)\t1.713086]\n",
            "Train Epoch: 3 [26000/60000(43%)\t1.711129]\n",
            "Train Epoch: 3 [28000/60000(47%)\t1.729994]\n",
            "Train Epoch: 3 [30000/60000(50%)\t1.733300]\n",
            "Train Epoch: 3 [32000/60000(53%)\t1.699237]\n",
            "Train Epoch: 3 [34000/60000(57%)\t1.631086]\n",
            "Train Epoch: 3 [36000/60000(60%)\t1.741156]\n",
            "Train Epoch: 3 [38000/60000(63%)\t1.700985]\n",
            "Train Epoch: 3 [40000/60000(67%)\t1.740986]\n",
            "Train Epoch: 3 [42000/60000(70%)\t1.692352]\n",
            "Train Epoch: 3 [44000/60000(73%)\t1.711101]\n",
            "Train Epoch: 3 [46000/60000(77%)\t1.661150]\n",
            "Train Epoch: 3 [48000/60000(80%)\t1.662930]\n",
            "Train Epoch: 3 [50000/60000(83%)\t1.706340]\n",
            "Train Epoch: 3 [52000/60000(87%)\t1.673596]\n",
            "Train Epoch: 3 [54000/60000(90%)\t1.700796]\n",
            "Train Epoch: 3 [56000/60000(93%)\t1.661151]\n",
            "Train Epoch: 3 [58000/60000(97%)\t1.662070]\n",
            "\n",
            "Test set: Average loss: 0.0154, Accuracy 9197/10000 (92)%\n",
            "\n",
            "Train Epoch: 4 [0/60000(0%)\t1.660539]\n",
            "Train Epoch: 4 [2000/60000(3%)\t1.758781]\n",
            "Train Epoch: 4 [4000/60000(7%)\t1.714110]\n",
            "Train Epoch: 4 [6000/60000(10%)\t1.710850]\n",
            "Train Epoch: 4 [8000/60000(13%)\t1.641167]\n",
            "Train Epoch: 4 [10000/60000(17%)\t1.621139]\n",
            "Train Epoch: 4 [12000/60000(20%)\t1.696887]\n",
            "Train Epoch: 4 [14000/60000(23%)\t1.681070]\n",
            "Train Epoch: 4 [16000/60000(27%)\t1.751261]\n",
            "Train Epoch: 4 [18000/60000(30%)\t1.749913]\n",
            "Train Epoch: 4 [20000/60000(33%)\t1.711150]\n",
            "Train Epoch: 4 [22000/60000(37%)\t1.758864]\n",
            "Train Epoch: 4 [24000/60000(40%)\t1.661105]\n",
            "Train Epoch: 4 [26000/60000(43%)\t1.641151]\n",
            "Train Epoch: 4 [28000/60000(47%)\t1.651110]\n",
            "Train Epoch: 4 [30000/60000(50%)\t1.661151]\n",
            "Train Epoch: 4 [32000/60000(53%)\t1.691648]\n",
            "Train Epoch: 4 [34000/60000(57%)\t1.701074]\n",
            "Train Epoch: 4 [36000/60000(60%)\t1.689374]\n",
            "Train Epoch: 4 [38000/60000(63%)\t1.776819]\n",
            "Train Epoch: 4 [40000/60000(67%)\t1.731139]\n",
            "Train Epoch: 4 [42000/60000(70%)\t1.745998]\n",
            "Train Epoch: 4 [44000/60000(73%)\t1.750859]\n",
            "Train Epoch: 4 [46000/60000(77%)\t1.631151]\n",
            "Train Epoch: 4 [48000/60000(80%)\t1.701058]\n",
            "Train Epoch: 4 [50000/60000(83%)\t1.767093]\n",
            "Train Epoch: 4 [52000/60000(87%)\t1.700796]\n",
            "Train Epoch: 4 [54000/60000(90%)\t1.728706]\n",
            "Train Epoch: 4 [56000/60000(93%)\t1.630442]\n",
            "Train Epoch: 4 [58000/60000(97%)\t1.671151]\n",
            "\n",
            "Test set: Average loss: 0.0154, Accuracy 9211/10000 (92)%\n",
            "\n",
            "Train Epoch: 5 [0/60000(0%)\t1.730899]\n",
            "Train Epoch: 5 [2000/60000(3%)\t1.688775]\n",
            "Train Epoch: 5 [4000/60000(7%)\t1.656235]\n",
            "Train Epoch: 5 [6000/60000(10%)\t1.741758]\n",
            "Train Epoch: 5 [8000/60000(13%)\t1.715530]\n",
            "Train Epoch: 5 [10000/60000(17%)\t1.635391]\n",
            "Train Epoch: 5 [12000/60000(20%)\t1.671151]\n",
            "Train Epoch: 5 [14000/60000(23%)\t1.697350]\n",
            "Train Epoch: 5 [16000/60000(27%)\t1.671151]\n",
            "Train Epoch: 5 [18000/60000(30%)\t1.680831]\n",
            "Train Epoch: 5 [20000/60000(33%)\t1.691152]\n",
            "Train Epoch: 5 [22000/60000(37%)\t1.636784]\n",
            "Train Epoch: 5 [24000/60000(40%)\t1.680884]\n",
            "Train Epoch: 5 [26000/60000(43%)\t1.721151]\n",
            "Train Epoch: 5 [28000/60000(47%)\t1.657895]\n",
            "Train Epoch: 5 [30000/60000(50%)\t1.651150]\n",
            "Train Epoch: 5 [32000/60000(53%)\t1.701151]\n",
            "Train Epoch: 5 [34000/60000(57%)\t1.586353]\n",
            "Train Epoch: 5 [36000/60000(60%)\t1.711224]\n",
            "Train Epoch: 5 [38000/60000(63%)\t1.631151]\n",
            "Train Epoch: 5 [40000/60000(67%)\t1.711151]\n",
            "Train Epoch: 5 [42000/60000(70%)\t1.731151]\n",
            "Train Epoch: 5 [44000/60000(73%)\t1.750855]\n",
            "Train Epoch: 5 [46000/60000(77%)\t1.656272]\n",
            "Train Epoch: 5 [48000/60000(80%)\t1.661181]\n",
            "Train Epoch: 5 [50000/60000(83%)\t1.711151]\n",
            "Train Epoch: 5 [52000/60000(87%)\t1.651151]\n",
            "Train Epoch: 5 [54000/60000(90%)\t1.661165]\n",
            "Train Epoch: 5 [56000/60000(93%)\t1.730192]\n",
            "Train Epoch: 5 [58000/60000(97%)\t1.611151]\n",
            "\n",
            "Test set: Average loss: 0.0155, Accuracy 9160/10000 (92)%\n",
            "\n",
            "Train Epoch: 6 [0/60000(0%)\t1.721112]\n",
            "Train Epoch: 6 [2000/60000(3%)\t1.701836]\n",
            "Train Epoch: 6 [4000/60000(7%)\t1.691151]\n",
            "Train Epoch: 6 [6000/60000(10%)\t1.621151]\n",
            "Train Epoch: 6 [8000/60000(13%)\t1.661081]\n",
            "Train Epoch: 6 [10000/60000(17%)\t1.671151]\n",
            "Train Epoch: 6 [12000/60000(20%)\t1.610788]\n",
            "Train Epoch: 6 [14000/60000(23%)\t1.731151]\n",
            "Train Epoch: 6 [16000/60000(27%)\t1.681150]\n",
            "Train Epoch: 6 [18000/60000(30%)\t1.772953]\n",
            "Train Epoch: 6 [20000/60000(33%)\t1.661151]\n",
            "Train Epoch: 6 [22000/60000(37%)\t1.691151]\n",
            "Train Epoch: 6 [24000/60000(40%)\t1.611151]\n",
            "Train Epoch: 6 [26000/60000(43%)\t1.691149]\n",
            "Train Epoch: 6 [28000/60000(47%)\t1.861082]\n",
            "Train Epoch: 6 [30000/60000(50%)\t1.761150]\n",
            "Train Epoch: 6 [32000/60000(53%)\t1.673424]\n",
            "Train Epoch: 6 [34000/60000(57%)\t1.750933]\n",
            "Train Epoch: 6 [36000/60000(60%)\t1.649889]\n",
            "Train Epoch: 6 [38000/60000(63%)\t1.701151]\n",
            "Train Epoch: 6 [40000/60000(67%)\t1.661150]\n",
            "Train Epoch: 6 [42000/60000(70%)\t1.683862]\n",
            "Train Epoch: 6 [44000/60000(73%)\t1.721226]\n",
            "Train Epoch: 6 [46000/60000(77%)\t1.780882]\n",
            "Train Epoch: 6 [48000/60000(80%)\t1.711150]\n",
            "Train Epoch: 6 [50000/60000(83%)\t1.681151]\n",
            "Train Epoch: 6 [52000/60000(87%)\t1.761151]\n",
            "Train Epoch: 6 [54000/60000(90%)\t1.817652]\n",
            "Train Epoch: 6 [56000/60000(93%)\t1.763685]\n",
            "Train Epoch: 6 [58000/60000(97%)\t1.720639]\n",
            "\n",
            "Test set: Average loss: 0.0158, Accuracy 8821/10000 (88)%\n",
            "\n",
            "Train Epoch: 7 [0/60000(0%)\t1.781151]\n",
            "Train Epoch: 7 [2000/60000(3%)\t1.751151]\n",
            "Train Epoch: 7 [4000/60000(7%)\t1.731151]\n",
            "Train Epoch: 7 [6000/60000(10%)\t1.631151]\n",
            "Train Epoch: 7 [8000/60000(13%)\t1.731151]\n",
            "Train Epoch: 7 [10000/60000(17%)\t1.871151]\n",
            "Train Epoch: 7 [12000/60000(20%)\t1.711151]\n",
            "Train Epoch: 7 [14000/60000(23%)\t1.811425]\n",
            "Train Epoch: 7 [16000/60000(27%)\t1.711060]\n",
            "Train Epoch: 7 [18000/60000(30%)\t1.731151]\n",
            "Train Epoch: 7 [20000/60000(33%)\t1.661116]\n",
            "Train Epoch: 7 [22000/60000(37%)\t1.621151]\n",
            "Train Epoch: 7 [24000/60000(40%)\t1.611151]\n",
            "Train Epoch: 7 [26000/60000(43%)\t1.791151]\n",
            "Train Epoch: 7 [28000/60000(47%)\t1.671150]\n",
            "Train Epoch: 7 [30000/60000(50%)\t1.630954]\n",
            "Train Epoch: 7 [32000/60000(53%)\t1.641150]\n",
            "Train Epoch: 7 [34000/60000(57%)\t1.771151]\n",
            "Train Epoch: 7 [36000/60000(60%)\t1.731151]\n",
            "Train Epoch: 7 [38000/60000(63%)\t1.711151]\n",
            "Train Epoch: 7 [40000/60000(67%)\t1.741150]\n",
            "Train Epoch: 7 [42000/60000(70%)\t1.701152]\n",
            "Train Epoch: 7 [44000/60000(73%)\t1.701151]\n",
            "Train Epoch: 7 [46000/60000(77%)\t1.720615]\n",
            "Train Epoch: 7 [48000/60000(80%)\t1.711151]\n",
            "Train Epoch: 7 [50000/60000(83%)\t1.661151]\n",
            "Train Epoch: 7 [52000/60000(87%)\t1.761151]\n",
            "Train Epoch: 7 [54000/60000(90%)\t1.781151]\n",
            "Train Epoch: 7 [56000/60000(93%)\t1.711151]\n",
            "Train Epoch: 7 [58000/60000(97%)\t1.721150]\n",
            "\n",
            "Test set: Average loss: 0.0154, Accuracy 9199/10000 (92)%\n",
            "\n",
            "Train Epoch: 8 [0/60000(0%)\t1.710927]\n",
            "Train Epoch: 8 [2000/60000(3%)\t1.680998]\n",
            "Train Epoch: 8 [4000/60000(7%)\t1.751151]\n",
            "Train Epoch: 8 [6000/60000(10%)\t1.701151]\n",
            "Train Epoch: 8 [8000/60000(13%)\t1.731027]\n",
            "Train Epoch: 8 [10000/60000(17%)\t1.731151]\n",
            "Train Epoch: 8 [12000/60000(20%)\t1.751151]\n",
            "Train Epoch: 8 [14000/60000(23%)\t1.691081]\n",
            "Train Epoch: 8 [16000/60000(27%)\t1.730979]\n",
            "Train Epoch: 8 [18000/60000(30%)\t1.751151]\n",
            "Train Epoch: 8 [20000/60000(33%)\t1.721151]\n",
            "Train Epoch: 8 [22000/60000(37%)\t1.701151]\n",
            "Train Epoch: 8 [24000/60000(40%)\t1.831151]\n",
            "Train Epoch: 8 [26000/60000(43%)\t1.671151]\n",
            "Train Epoch: 8 [28000/60000(47%)\t1.701249]\n",
            "Train Epoch: 8 [30000/60000(50%)\t1.890095]\n",
            "Train Epoch: 8 [32000/60000(53%)\t1.801151]\n",
            "Train Epoch: 8 [34000/60000(57%)\t1.741156]\n",
            "Train Epoch: 8 [36000/60000(60%)\t1.721151]\n",
            "Train Epoch: 8 [38000/60000(63%)\t1.731151]\n",
            "Train Epoch: 8 [40000/60000(67%)\t1.661738]\n",
            "Train Epoch: 8 [42000/60000(70%)\t1.741151]\n",
            "Train Epoch: 8 [44000/60000(73%)\t1.711151]\n",
            "Train Epoch: 8 [46000/60000(77%)\t1.711151]\n",
            "Train Epoch: 8 [48000/60000(80%)\t1.786584]\n",
            "Train Epoch: 8 [50000/60000(83%)\t1.621150]\n",
            "Train Epoch: 8 [52000/60000(87%)\t1.701151]\n",
            "Train Epoch: 8 [54000/60000(90%)\t1.661151]\n",
            "Train Epoch: 8 [56000/60000(93%)\t1.741004]\n",
            "Train Epoch: 8 [58000/60000(97%)\t1.701138]\n",
            "\n",
            "Test set: Average loss: 0.0154, Accuracy 9206/10000 (92)%\n",
            "\n",
            "Train Epoch: 9 [0/60000(0%)\t1.781151]\n",
            "Train Epoch: 9 [2000/60000(3%)\t1.771150]\n",
            "Train Epoch: 9 [4000/60000(7%)\t1.799805]\n",
            "Train Epoch: 9 [6000/60000(10%)\t1.711151]\n",
            "Train Epoch: 9 [8000/60000(13%)\t1.701151]\n",
            "Train Epoch: 9 [10000/60000(17%)\t1.751151]\n",
            "Train Epoch: 9 [12000/60000(20%)\t1.705204]\n",
            "Train Epoch: 9 [14000/60000(23%)\t1.761124]\n",
            "Train Epoch: 9 [16000/60000(27%)\t1.781150]\n",
            "Train Epoch: 9 [18000/60000(30%)\t1.741179]\n",
            "Train Epoch: 9 [20000/60000(33%)\t1.711151]\n",
            "Train Epoch: 9 [22000/60000(37%)\t1.761135]\n",
            "Train Epoch: 9 [24000/60000(40%)\t1.791150]\n",
            "Train Epoch: 9 [26000/60000(43%)\t1.690801]\n",
            "Train Epoch: 9 [28000/60000(47%)\t1.771151]\n",
            "Train Epoch: 9 [30000/60000(50%)\t1.661151]\n",
            "Train Epoch: 9 [32000/60000(53%)\t1.691151]\n",
            "Train Epoch: 9 [34000/60000(57%)\t1.701151]\n",
            "Train Epoch: 9 [36000/60000(60%)\t1.741151]\n",
            "Train Epoch: 9 [38000/60000(63%)\t1.781151]\n",
            "Train Epoch: 9 [40000/60000(67%)\t1.761151]\n",
            "Train Epoch: 9 [42000/60000(70%)\t1.721151]\n",
            "Train Epoch: 9 [44000/60000(73%)\t1.671151]\n",
            "Train Epoch: 9 [46000/60000(77%)\t1.621151]\n",
            "Train Epoch: 9 [48000/60000(80%)\t1.721150]\n",
            "Train Epoch: 9 [50000/60000(83%)\t1.751151]\n",
            "Train Epoch: 9 [52000/60000(87%)\t1.621151]\n",
            "Train Epoch: 9 [54000/60000(90%)\t1.641151]\n",
            "Train Epoch: 9 [56000/60000(93%)\t1.681061]\n",
            "Train Epoch: 9 [58000/60000(97%)\t1.711151]\n",
            "\n",
            "Test set: Average loss: 0.0154, Accuracy 9218/10000 (92)%\n",
            "\n",
            "Train Epoch: 10 [0/60000(0%)\t1.711151]\n",
            "Train Epoch: 10 [2000/60000(3%)\t1.671151]\n",
            "Train Epoch: 10 [4000/60000(7%)\t1.751151]\n",
            "Train Epoch: 10 [6000/60000(10%)\t1.721151]\n",
            "Train Epoch: 10 [8000/60000(13%)\t1.781151]\n",
            "Train Epoch: 10 [10000/60000(17%)\t1.731156]\n",
            "Train Epoch: 10 [12000/60000(20%)\t1.751151]\n",
            "Train Epoch: 10 [14000/60000(23%)\t1.771139]\n",
            "Train Epoch: 10 [16000/60000(27%)\t1.711151]\n",
            "Train Epoch: 10 [18000/60000(30%)\t1.781151]\n",
            "Train Epoch: 10 [20000/60000(33%)\t1.741151]\n",
            "Train Epoch: 10 [22000/60000(37%)\t1.726788]\n",
            "Train Epoch: 10 [24000/60000(40%)\t1.731151]\n",
            "Train Epoch: 10 [26000/60000(43%)\t1.711151]\n",
            "Train Epoch: 10 [28000/60000(47%)\t1.790567]\n",
            "Train Epoch: 10 [30000/60000(50%)\t1.741151]\n",
            "Train Epoch: 10 [32000/60000(53%)\t1.791151]\n",
            "Train Epoch: 10 [34000/60000(57%)\t1.701151]\n",
            "Train Epoch: 10 [36000/60000(60%)\t1.711151]\n",
            "Train Epoch: 10 [38000/60000(63%)\t1.771151]\n",
            "Train Epoch: 10 [40000/60000(67%)\t1.783846]\n",
            "Train Epoch: 10 [42000/60000(70%)\t1.711151]\n",
            "Train Epoch: 10 [44000/60000(73%)\t1.751112]\n",
            "Train Epoch: 10 [46000/60000(77%)\t1.741151]\n",
            "Train Epoch: 10 [48000/60000(80%)\t1.658181]\n",
            "Train Epoch: 10 [50000/60000(83%)\t1.841151]\n",
            "Train Epoch: 10 [52000/60000(87%)\t1.731151]\n",
            "Train Epoch: 10 [54000/60000(90%)\t1.721151]\n",
            "Train Epoch: 10 [56000/60000(93%)\t1.801151]\n",
            "Train Epoch: 10 [58000/60000(97%)\t1.671151]\n",
            "\n",
            "Test set: Average loss: 0.0155, Accuracy 9124/10000 (91)%\n",
            "\n"
          ]
        }
      ]
    },
    {
      "cell_type": "code",
      "source": [
        "import matplotlib.pyplot as plt\n",
        "import numpy as np\n",
        "import matplotlib.gridspec as gridspec\n",
        "\n",
        "\n",
        "\n",
        "\n",
        "\n",
        "# Create 3x3 subplots\n",
        "gs = gridspec.GridSpec(3, 3)\n",
        "fig = plt.figure()\n",
        "for i in range(9):\n",
        "  model.eval();\n",
        "  data,target = test_data[np.random.randint(test_data.data.shape)[0]]\n",
        "\n",
        "  data = data.unsqueeze(0).to(device)\n",
        "\n",
        "  output = model(data)\n",
        "\n",
        "  prediction = output.argmax(dim=1,keepdim=True).item()\n",
        "\n",
        "\n",
        "\n",
        "  image = data.squeeze(0).squeeze(0).cpu().numpy()\n",
        "\n",
        "  ax = fig.add_subplot(gs[i]);\n",
        "  ax.set_title(f\"Prediction: {prediction}\")\n",
        "  ax.imshow(image,cmap='gray')\n",
        "  ax.axis('off')\n",
        "plt.show();"
      ],
      "metadata": {
        "colab": {
          "base_uri": "https://localhost:8080/",
          "height": 483
        },
        "id": "Id0dQpkxJDzC",
        "outputId": "6fcdec71-6e0e-4770-cf6f-52d256fdccd8"
      },
      "execution_count": 30,
      "outputs": [
        {
          "output_type": "stream",
          "name": "stderr",
          "text": [
            "<ipython-input-10-aafda727790c>:23: UserWarning: Implicit dimension choice for softmax has been deprecated. Change the call to include dim=X as an argument.\n",
            "  return F.softmax(x) # returns probability of all the ten digits\n"
          ]
        },
        {
          "output_type": "display_data",
          "data": {
            "text/plain": [
              "<Figure size 640x480 with 9 Axes>"
            ],
            "image/png": "[encoded data removed]"
          },
          "metadata": {}
        }
      ]
    },
    {
      "cell_type": "code",
      "source": [],
      "metadata": {
        "id": "y_B9c9FlLdHh"
      },
      "execution_count": 30,
      "outputs": []
    },
    {
      "cell_type": "code",
      "source": [],
      "metadata": {
        "id": "5wa2F5gpMsBr"
      },
      "execution_count": null,
      "outputs": []
    }
  ]
}